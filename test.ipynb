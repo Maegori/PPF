{
 "cells": [
  {
   "cell_type": "code",
   "execution_count": 11,
   "metadata": {},
   "outputs": [
    {
     "data": {
      "text/plain": [
       "GLMakie"
      ]
     },
     "metadata": {},
     "output_type": "display_data"
    }
   ],
   "source": [
    "\n",
    "using Images\n",
    "using FileIO\n",
    "using Base64\n",
    "using GLMakie\n",
    "using VideoIO\n",
    "\n",
    "plt = GLMakie\n"
   ]
  },
  {
   "cell_type": "code",
   "execution_count": 2,
   "metadata": {},
   "outputs": [
    {
     "data": {
      "text/plain": [
       "resize_img (generic function with 1 method)"
      ]
     },
     "metadata": {},
     "output_type": "display_data"
    }
   ],
   "source": [
    "function resize_img(img, factor)\n",
    "    img = imresize(img, ratio=factor)\n",
    "    return img\n",
    "end\n"
   ]
  },
  {
   "cell_type": "code",
   "execution_count": null,
   "metadata": {},
   "outputs": [],
   "source": [
    "img_file = \"C:\\\\Users\\\\lexj1\\\\Documents\\\\julia\\\\PPF\\\\assets\\\\map_puzzle.png\"\n",
    "\n",
    "getbase64(data:: Vector{UInt8}) = \"data:image/png;base64,\"*base64encode(data)\n",
    "img_full = load(img_file)\n",
    "img_file\n",
    "# img = getbase64(reinterpret.(UInt8, resize_img(img_full, 0.1)))\n",
    "\n",
    "\n",
    "\n"
   ]
  },
  {
   "cell_type": "code",
   "execution_count": 9,
   "metadata": {},
   "outputs": [],
   "source": [
    "f = Figure(size=(1600, 900))\n",
    "\n",
    "puz_ax = plt.Axis(f[1:3, 1:4])\n",
    "cam_ax = plt.Axis(f[4, 1])\n",
    "img_ax = plt.Axis(f[4, 2])\n",
    "edg_ax = plt.Axis(f[4, 3])\n",
    "ftr_ax = plt.Axis(f[4, 4])\n",
    "uis_ax = plt.Axis(f[1:4, 5])\n",
    "\n",
    "# remove all decorations\n",
    "for ax in [puz_ax, cam_ax, img_ax, edg_ax, ftr_ax, uis_ax]\n",
    "    hidedecorations!.(ax, grid = false, label = false)\n",
    "end\n",
    "\n",
    "\n"
   ]
  },
  {
   "cell_type": "code",
   "execution_count": 10,
   "metadata": {},
   "outputs": [],
   "source": [
    "# colsize!(f.layout, 1, plt.Fixed(1200))\n",
    "plt.colgap!(f.layout, 0)\n",
    "plt.rowgap!(f.layout, 0)\n",
    "\n",
    "plt.image!(puz_ax, rotr90(img_full))\n",
    "\n"
   ]
  },
  {
   "cell_type": "code",
   "execution_count": 18,
   "metadata": {},
   "outputs": [],
   "source": [
    "camera_ip = \"http://192.168.1.40:4747/video\"\n",
    "strm = VideoIO.openvideo(camera_ip)\n",
    "\n",
    "frame = read(strm)\n",
    "\n",
    "cam_frame = Observable(frame)\n",
    "# read_frame = @task read!(strm, frame)\n",
    "\n",
    "function update_cam_frame()\n",
    "    @async while true\n",
    "        read!(strm, frame)\n",
    "        cam_frame[] = frame\n",
    "        sleep(0.01)\n",
    "    end\n",
    "end\n",
    "\n",
    "# plot the camera feed in the camera axis\n",
    "update_cam_frame()\n",
    "plt.image!(cam_ax, rotr180(cam_frame))\n",
    "f\n"
   ]
  }
 ],
 "metadata": {
  "kernelspec": {
   "display_name": "Julia 1.10.2",
   "language": "julia",
   "name": "julia-1.10"
  },
  "language_info": {
   "file_extension": ".jl",
   "mimetype": "application/julia",
   "name": "julia",
   "version": "1.10.2"
  }
 },
 "nbformat": 4,
 "nbformat_minor": 4
}
